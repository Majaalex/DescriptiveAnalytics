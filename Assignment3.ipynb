{
 "cells": [
  {
   "cell_type": "code",
   "execution_count": 2,
   "metadata": {},
   "outputs": [],
   "source": [
    "import os"
   ]
  },
  {
   "cell_type": "code",
   "execution_count": 17,
   "metadata": {},
   "outputs": [],
   "source": [
    "corpus = []\n",
    "dir_path = \"awards_2002/\"\n",
    "root_dir = os.fsencode(dir_path)\n",
    "for directory in os.listdir(root_dir):\n",
    "    sub_directory = os.fsdecode(directory)\n",
    "    current_path = dir_path + sub_directory + \"/\"\n",
    "    \n",
    "    for file in os.listdir(dir_path + sub_directory):\n",
    "        with open(current_path + file, \"r\", encoding=\"utf-8\", errors=\"ignore\") as f:\n",
    "            corpus.append(f.read())"
   ]
  },
  {
   "cell_type": "code",
   "execution_count": null,
   "metadata": {},
   "outputs": [],
   "source": []
  }
 ],
 "metadata": {
  "kernelspec": {
   "display_name": "Python 3",
   "language": "python",
   "name": "python3"
  },
  "language_info": {
   "codemirror_mode": {
    "name": "ipython",
    "version": 3
   },
   "file_extension": ".py",
   "mimetype": "text/x-python",
   "name": "python",
   "nbconvert_exporter": "python",
   "pygments_lexer": "ipython3",
   "version": "3.7.3"
  }
 },
 "nbformat": 4,
 "nbformat_minor": 2
}
