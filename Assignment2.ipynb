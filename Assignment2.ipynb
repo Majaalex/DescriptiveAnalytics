{
 "cells": [
  {
   "cell_type": "code",
   "execution_count": 67,
   "metadata": {},
   "outputs": [],
   "source": [
    "import json\n",
    "import random\n",
    "import sklearn\n",
    "from sklearn.feature_extraction.text import CountVectorizer, TfidfVectorizer\n",
    "from sklearn.model_selection import train_test_split\n",
    "import pandas as pd\n",
    "import sklearn.svm as svm\n",
    "import sklearn.metrics"
   ]
  },
  {
   "cell_type": "code",
   "execution_count": 2,
   "metadata": {
    "scrolled": true
   },
   "outputs": [
    {
     "name": "stdout",
     "output_type": "stream",
     "text": [
      "{'class': 'pos', 'text': \"almost every review of this movie I'd seen was pretty bad. It's not pretty bad, it's actually pretty good, though not great. The Judy Garland character could have gotten annoying, but she didn't allow it to. Somewhere along the line, i've become a fan of brooding, overbearing, overacting Van Heflin, at least in the early 40's. Judy's singing is great, but the film missed a great chance by not showing more of their relationship. I gave it a 7.\"}\n"
     ]
    }
   ],
   "source": [
    "with open(\"imdb_train.json\") as f:\n",
    "    data = json.load(f)\n",
    "random.shuffle(data)\n",
    "print(data[0])"
   ]
  },
  {
   "cell_type": "code",
   "execution_count": 3,
   "metadata": {},
   "outputs": [],
   "source": [
    "texts =[text[\"text\"] for text in data]\n",
    "labels =[label[\"class\"] for label in data]"
   ]
  },
  {
   "cell_type": "markdown",
   "metadata": {},
   "source": [
    "# 1. countVectorizer/tfidfVectorizer"
   ]
  },
  {
   "cell_type": "code",
   "execution_count": 4,
   "metadata": {},
   "outputs": [],
   "source": [
    "countVectorizer = CountVectorizer(max_features=100000, binary=True, ngram_range=(1,1))\n",
    "tfidfVectorizer = TfidfVectorizer(max_features=100000, binary=True, ngram_range=(1,1))\n",
    "\n",
    "count_matrix = countVectorizer.fit_transform(texts)\n",
    "tfidf_matrix = tfidfVectorizer.fit_transform(texts)"
   ]
  },
  {
   "cell_type": "code",
   "execution_count": 5,
   "metadata": {},
   "outputs": [],
   "source": [
    "features = {\"CountVectorizer\": countVectorizer.get_feature_names()[:15], \"TfidfVectorizer\": tfidfVectorizer.get_feature_names()[:15]}\n",
    "features_df = pd.DataFrame.from_dict(features)"
   ]
  },
  {
   "cell_type": "code",
   "execution_count": 6,
   "metadata": {},
   "outputs": [
    {
     "data": {
      "text/html": [
       "<div>\n",
       "<style scoped>\n",
       "    .dataframe tbody tr th:only-of-type {\n",
       "        vertical-align: middle;\n",
       "    }\n",
       "\n",
       "    .dataframe tbody tr th {\n",
       "        vertical-align: top;\n",
       "    }\n",
       "\n",
       "    .dataframe thead th {\n",
       "        text-align: right;\n",
       "    }\n",
       "</style>\n",
       "<table border=\"1\" class=\"dataframe\">\n",
       "  <thead>\n",
       "    <tr style=\"text-align: right;\">\n",
       "      <th></th>\n",
       "      <th>CountVectorizer</th>\n",
       "      <th>TfidfVectorizer</th>\n",
       "    </tr>\n",
       "  </thead>\n",
       "  <tbody>\n",
       "    <tr>\n",
       "      <td>0</td>\n",
       "      <td>00</td>\n",
       "      <td>00</td>\n",
       "    </tr>\n",
       "    <tr>\n",
       "      <td>1</td>\n",
       "      <td>000</td>\n",
       "      <td>000</td>\n",
       "    </tr>\n",
       "    <tr>\n",
       "      <td>2</td>\n",
       "      <td>0000000000001</td>\n",
       "      <td>0000000000001</td>\n",
       "    </tr>\n",
       "    <tr>\n",
       "      <td>3</td>\n",
       "      <td>00001</td>\n",
       "      <td>00001</td>\n",
       "    </tr>\n",
       "    <tr>\n",
       "      <td>4</td>\n",
       "      <td>00015</td>\n",
       "      <td>00015</td>\n",
       "    </tr>\n",
       "    <tr>\n",
       "      <td>5</td>\n",
       "      <td>000s</td>\n",
       "      <td>000s</td>\n",
       "    </tr>\n",
       "    <tr>\n",
       "      <td>6</td>\n",
       "      <td>001</td>\n",
       "      <td>001</td>\n",
       "    </tr>\n",
       "    <tr>\n",
       "      <td>7</td>\n",
       "      <td>003830</td>\n",
       "      <td>003830</td>\n",
       "    </tr>\n",
       "    <tr>\n",
       "      <td>8</td>\n",
       "      <td>006</td>\n",
       "      <td>006</td>\n",
       "    </tr>\n",
       "    <tr>\n",
       "      <td>9</td>\n",
       "      <td>007</td>\n",
       "      <td>007</td>\n",
       "    </tr>\n",
       "    <tr>\n",
       "      <td>10</td>\n",
       "      <td>0079</td>\n",
       "      <td>0079</td>\n",
       "    </tr>\n",
       "    <tr>\n",
       "      <td>11</td>\n",
       "      <td>0080</td>\n",
       "      <td>0080</td>\n",
       "    </tr>\n",
       "    <tr>\n",
       "      <td>12</td>\n",
       "      <td>0083</td>\n",
       "      <td>0083</td>\n",
       "    </tr>\n",
       "    <tr>\n",
       "      <td>13</td>\n",
       "      <td>0093638</td>\n",
       "      <td>0093638</td>\n",
       "    </tr>\n",
       "    <tr>\n",
       "      <td>14</td>\n",
       "      <td>00am</td>\n",
       "      <td>00am</td>\n",
       "    </tr>\n",
       "  </tbody>\n",
       "</table>\n",
       "</div>"
      ],
      "text/plain": [
       "   CountVectorizer TfidfVectorizer\n",
       "0               00              00\n",
       "1              000             000\n",
       "2    0000000000001   0000000000001\n",
       "3            00001           00001\n",
       "4            00015           00015\n",
       "5             000s            000s\n",
       "6              001             001\n",
       "7           003830          003830\n",
       "8              006             006\n",
       "9              007             007\n",
       "10            0079            0079\n",
       "11            0080            0080\n",
       "12            0083            0083\n",
       "13         0093638         0093638\n",
       "14            00am            00am"
      ]
     },
     "execution_count": 6,
     "metadata": {},
     "output_type": "execute_result"
    }
   ],
   "source": [
    "features_df"
   ]
  },
  {
   "cell_type": "code",
   "execution_count": 21,
   "metadata": {},
   "outputs": [],
   "source": [
    "train_texts, dev_texts, train_labels, dev_labels = train_test_split(texts, labels, test_size=0.2)"
   ]
  },
  {
   "cell_type": "code",
   "execution_count": 22,
   "metadata": {},
   "outputs": [],
   "source": [
    "count_matrix_train = countVectorizer.fit_transform(train_texts)\n",
    "count_matrix_dev = countVectorizer.transform(dev_texts)\n",
    "tfidf_matrix_train = tfidfVectorizer.fit_transform(train_texts)\n",
    "tfidf_matrix_dev = tfidfVectorizer.transform(dev_texts)"
   ]
  },
  {
   "cell_type": "code",
   "execution_count": 23,
   "metadata": {},
   "outputs": [
    {
     "name": "stdout",
     "output_type": "stream",
     "text": [
      "(20000, 68377)\n",
      "(5000, 68377)\n",
      "--\n",
      "(20000, 68377)\n",
      "(5000, 68377)\n"
     ]
    }
   ],
   "source": [
    "print(count_matrix_train.shape)\n",
    "print(count_matrix_dev.shape)\n",
    "print(\"--\")\n",
    "print(tfidf_matrix_train.shape)\n",
    "print(tfidf_matrix_dev.shape)"
   ]
  },
  {
   "cell_type": "code",
   "execution_count": 90,
   "metadata": {},
   "outputs": [
    {
     "name": "stdout",
     "output_type": "stream",
     "text": [
      "[LibLinear][LibLinear]"
     ]
    },
    {
     "data": {
      "text/plain": [
       "LinearSVC(C=0.05, class_weight=None, dual=True, fit_intercept=True,\n",
       "          intercept_scaling=1, loss='squared_hinge', max_iter=1000,\n",
       "          multi_class='ovr', penalty='l2', random_state=None, tol=0.0001,\n",
       "          verbose=1)"
      ]
     },
     "execution_count": 90,
     "metadata": {},
     "output_type": "execute_result"
    }
   ],
   "source": [
    "count_classifier = svm.LinearSVC(C=0.005, verbose=1)\n",
    "count_classifier.fit(count_matrix_train, train_labels)\n",
    "\n",
    "tfidf_classifier = svm.LinearSVC(C=0.05, verbose=1)\n",
    "tfidf_classifier.fit(tfidf_matrix_train, train_labels)"
   ]
  },
  {
   "cell_type": "code",
   "execution_count": 91,
   "metadata": {},
   "outputs": [
    {
     "name": "stdout",
     "output_type": "stream",
     "text": [
      "Count dev: 0.8834\n",
      "Count train: 0.95565\n",
      "---------\n",
      "Tfidf dev: 0.8834\n",
      "Tfidf train: 0.92275\n"
     ]
    }
   ],
   "source": [
    "print(\"Count dev:\", count_classifier.score(count_matrix_dev, dev_labels))\n",
    "print(\"Count train:\", count_classifier.score(count_matrix_train, train_labels))\n",
    "print(\"---------\")\n",
    "print(\"Tfidf dev:\", tfidf_classifier.score(tfidf_matrix_dev, dev_labels))\n",
    "print(\"Tfidf train:\", tfidf_classifier.score(tfidf_matrix_train, train_labels))"
   ]
  },
  {
   "cell_type": "code",
   "execution_count": 92,
   "metadata": {},
   "outputs": [
    {
     "name": "stdout",
     "output_type": "stream",
     "text": [
      "['neg' 'pos' 'neg' ... 'neg' 'pos' 'pos']\n",
      "[[2175  320]\n",
      " [ 263 2242]]\n",
      "0.8834\n"
     ]
    }
   ],
   "source": [
    "predictions_count_dev = count_classifier.predict(count_matrix_dev)\n",
    "print(predictions_count_dev)\n",
    "print(sklearn.metrics.confusion_matrix(dev_labels, predictions_count_dev))\n",
    "print(sklearn.metrics.accuracy_score(dev_labels, predictions_count_dev))"
   ]
  },
  {
   "cell_type": "code",
   "execution_count": 93,
   "metadata": {},
   "outputs": [
    {
     "name": "stdout",
     "output_type": "stream",
     "text": [
      "['neg' 'pos' 'neg' ... 'pos' 'pos' 'pos']\n",
      "[[2141  354]\n",
      " [ 229 2276]]\n",
      "0.8834\n"
     ]
    }
   ],
   "source": [
    "predictions_tfidf_dev = tfidf_classifier.predict(tfidf_matrix_dev)\n",
    "print(predictions_tfidf_dev)\n",
    "print(sklearn.metrics.confusion_matrix(dev_labels, predictions_tfidf_dev))\n",
    "print(sklearn.metrics.accuracy_score(dev_labels, predictions_tfidf_dev))"
   ]
  },
  {
   "cell_type": "markdown",
   "metadata": {},
   "source": [
    "# 2. CountVectorizer Ngram"
   ]
  },
  {
   "cell_type": "code",
   "execution_count": 100,
   "metadata": {},
   "outputs": [],
   "source": [
    "def count_vectorizer(ngram=(1,1), c=0.005):\n",
    "    countVectorizer = CountVectorizer(max_features=100000, binary=True, ngram_range=ngram)\n",
    "    count_matrix = countVectorizer.fit_transform(texts)\n",
    "    train_texts, dev_texts, train_labels, dev_labels = train_test_split(texts, labels, test_size=0.2)\n",
    "    count_matrix_train = countVectorizer.fit_transform(train_texts)\n",
    "    count_matrix_dev = countVectorizer.transform(dev_texts)\n",
    "    count_classifier = svm.LinearSVC(C=c, verbose=1)\n",
    "    count_classifier.fit(count_matrix_train, train_labels)\n",
    "    print(\"Count dev:\", count_classifier.score(count_matrix_dev, dev_labels))\n",
    "    print(\"Count train:\", count_classifier.score(count_matrix_train, train_labels))\n",
    "    print(\"---------\")\n",
    "    predictions_count_dev = count_classifier.predict(count_matrix_dev)\n",
    "    print(predictions_count_dev)\n",
    "    print(sklearn.metrics.confusion_matrix(dev_labels, predictions_count_dev))\n",
    "    print(sklearn.metrics.accuracy_score(dev_labels, predictions_count_dev))"
   ]
  },
  {
   "cell_type": "code",
   "execution_count": 101,
   "metadata": {},
   "outputs": [
    {
     "name": "stdout",
     "output_type": "stream",
     "text": [
      "[LibLinear]Count dev: 0.8982\n",
      "Count train: 0.9948\n",
      "---------\n",
      "['neg' 'pos' 'neg' ... 'neg' 'neg' 'neg']\n",
      "[[2227  269]\n",
      " [ 240 2264]]\n",
      "0.8982\n"
     ]
    }
   ],
   "source": [
    "count_vectorizer(ngram=(1,2), c=0.005)"
   ]
  },
  {
   "cell_type": "code",
   "execution_count": 102,
   "metadata": {},
   "outputs": [
    {
     "name": "stdout",
     "output_type": "stream",
     "text": [
      "[LibLinear]Count dev: 0.8696\n",
      "Count train: 0.99155\n",
      "---------\n",
      "['neg' 'neg' 'pos' ... 'neg' 'pos' 'pos']\n",
      "[[2118  360]\n",
      " [ 292 2230]]\n",
      "0.8696\n"
     ]
    }
   ],
   "source": [
    "count_vectorizer(ngram=(2,2), c=0.005)"
   ]
  },
  {
   "cell_type": "code",
   "execution_count": 103,
   "metadata": {},
   "outputs": [
    {
     "name": "stdout",
     "output_type": "stream",
     "text": [
      "[LibLinear]Count dev: 0.8746\n",
      "Count train: 0.9943\n",
      "---------\n",
      "['neg' 'neg' 'neg' ... 'pos' 'neg' 'neg']\n",
      "[[2119  345]\n",
      " [ 282 2254]]\n",
      "0.8746\n"
     ]
    }
   ],
   "source": [
    "count_vectorizer(ngram=(2,3), c=0.005)"
   ]
  },
  {
   "cell_type": "code",
   "execution_count": 104,
   "metadata": {},
   "outputs": [
    {
     "name": "stdout",
     "output_type": "stream",
     "text": [
      "[LibLinear]Count dev: 0.8266\n",
      "Count train: 0.9756\n",
      "---------\n",
      "['pos' 'pos' 'neg' ... 'pos' 'pos' 'pos']\n",
      "[[1980  476]\n",
      " [ 391 2153]]\n",
      "0.8266\n"
     ]
    }
   ],
   "source": [
    "count_vectorizer(ngram=(3,3), c=0.005)"
   ]
  },
  {
   "cell_type": "markdown",
   "metadata": {},
   "source": [
    "# 3. Language recognition SVM"
   ]
  },
  {
   "cell_type": "code",
   "execution_count": null,
   "metadata": {},
   "outputs": [],
   "source": []
  }
 ],
 "metadata": {
  "kernelspec": {
   "display_name": "Python 3",
   "language": "python",
   "name": "python3"
  },
  "language_info": {
   "codemirror_mode": {
    "name": "ipython",
    "version": 3
   },
   "file_extension": ".py",
   "mimetype": "text/x-python",
   "name": "python",
   "nbconvert_exporter": "python",
   "pygments_lexer": "ipython3",
   "version": "3.7.3"
  }
 },
 "nbformat": 4,
 "nbformat_minor": 2
}
