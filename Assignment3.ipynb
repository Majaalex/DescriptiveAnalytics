{
 "cells": [
  {
   "cell_type": "code",
   "execution_count": 31,
   "metadata": {},
   "outputs": [
    {
     "name": "stderr",
     "output_type": "stream",
     "text": [
      "/opt/conda/lib/python3.7/importlib/_bootstrap.py:219: RuntimeWarning: numpy.ufunc size changed, may indicate binary incompatibility. Expected 192 from C header, got 216 from PyObject\n",
      "  return f(*args, **kwds)\n"
     ]
    }
   ],
   "source": [
    "import os\n",
    "from sklearn.feature_extraction.text import TfidfVectorizer\n",
    "from sklearn.cluster import KMeans\n",
    "from scipy.cluster.hierarchy import dendrogram, linkage, fcluster\n",
    "import heapq, numpy as np"
   ]
  },
  {
   "cell_type": "code",
   "execution_count": 5,
   "metadata": {},
   "outputs": [],
   "source": [
    "documents = []\n",
    "dir_path = \"awards_2002/\"\n",
    "root_dir = os.fsencode(dir_path)\n",
    "for directory in os.listdir(root_dir):\n",
    "    sub_directory = os.fsdecode(directory)\n",
    "    current_path = dir_path + sub_directory + \"/\"\n",
    "    \n",
    "    for file in os.listdir(dir_path + sub_directory):\n",
    "        with open(current_path + file, \"r\", encoding=\"utf-8\", errors=\"ignore\") as f:\n",
    "            documents.append(f.read())"
   ]
  },
  {
   "cell_type": "markdown",
   "metadata": {},
   "source": [
    "## Functions"
   ]
  },
  {
   "cell_type": "code",
   "execution_count": 15,
   "metadata": {},
   "outputs": [],
   "source": [
    "def feature_names(vectorizer, matrix):\n",
    "    features = tfidf_vectorizer.get_feature_names()\n",
    "    for doc_i in range(5):\n",
    "        print(\"\\nDocument %d, top terms by TF-IDF\" % doc_i)\n",
    "        for term, score in sorted(list(zip(features,matrix.toarray()[doc_i])), key=lambda x:-x[1])[:5]:\n",
    "            print(\"%.2f\\t%s\" % (score, term))"
   ]
  },
  {
   "cell_type": "code",
   "execution_count": 34,
   "metadata": {},
   "outputs": [],
   "source": [
    "def print_clusters(matrix, clusters, n_keywords=10):\n",
    "    max_cluster = 10\n",
    "    for cluster in range(min(clusters), max_cluster):\n",
    "        cluster_docs = [i for i, c in enumerate(clusters) if c == cluster]\n",
    "        print(\"Cluster: %d (%d docs)\" % (cluster, len(cluster_docs)))\n",
    "        \n",
    "        # Keep scores for top n terms\n",
    "        new_matrix = np.zeros((len(cluster_docs), matrix.shape[1]))\n",
    "        for cluster_i, doc_vec in enumerate(matrix[cluster_docs].toarray()):\n",
    "            for idx, score in heapq.nlargest(n_keywords, enumerate(doc_vec), key=lambda x:x[1]):\n",
    "                new_matrix[cluster_i][idx] = score\n",
    "\n",
    "        # Aggregate scores for kept top terms\n",
    "        keywords = heapq.nlargest(n_keywords, zip(new_matrix.sum(axis=0), features))\n",
    "        print(', '.join([w for s,w in keywords]))\n",
    "        print()"
   ]
  },
  {
   "cell_type": "code",
   "execution_count": 35,
   "metadata": {},
   "outputs": [
    {
     "name": "stdout",
     "output_type": "stream",
     "text": [
      "Cluster: 0 (13 docs)\n",
      "oceanographic, instrumentation, vessel, shipboard, ship, ships, equipment, transceivers, weatherbird, retrieval\n",
      "\n",
      "Cluster: 1 (17 docs)\n",
      "irvine, random, superfluid, insulator, anderson, 3he, aerogel, valuations, rsvp, localization\n",
      "\n",
      "Cluster: 2 (36 docs)\n",
      "teacher, teachers, 7688, alliance, mathematics, standards, ate, sme, professoriate, middle\n",
      "\n",
      "Cluster: 3 (20 docs)\n",
      "operators, operator, spaces, holomorphic, toeplitz, harmonic, vector, bellman, banach, integrals\n",
      "\n",
      "Cluster: 4 (18 docs)\n",
      "functions, numbers, linear, galois, finite, zeta, generalized, rutgers, mixed, random\n",
      "\n",
      "Cluster: 5 (32 docs)\n",
      "fellowship, 9219, 108000, dms, lloyd, 1260, postdoctoral, stanford, hyde, setauket\n",
      "\n",
      "Cluster: 6 (37 docs)\n",
      "manifolds, curvature, geometry, conformal, ergodic, riemannian, einstein, topology, geometric, metrics\n",
      "\n",
      "Cluster: 7 (38 docs)\n",
      "struct, seismic, japan, straightening, sensor, repair, wind, liquefaction, laminar, resistivity\n",
      "\n",
      "Cluster: 8 (49 docs)\n",
      "algebraic, algebra, algebras, representation, combinatorics, commutative, geometry, matrices, symmetries, conference\n",
      "\n",
      "Cluster: 9 (28 docs)\n",
      "none, dge, fellowship, 7172, sheppard, fellowships, princeton, francisco, stanford, austin\n",
      "\n"
     ]
    }
   ],
   "source": [
    "tfidf_vectorizer = TfidfVectorizer(min_df=2, use_idf=True, sublinear_tf=True, max_df=0.1, max_features=100000)\n",
    "tfidf_matrix = tfidf_vectorizer.fit_transform(documents)\n",
    "matrix_sample = tfidf_matrix[:1000]\n",
    "km = KMeans(n_clusters=30, random_state=123, verbose=0)\n",
    "km.fit(matrix_sample)\n",
    "print_clusters(matrix_sample, km.labels_)\n",
    "# too many numbers in the clusters"
   ]
  },
  {
   "cell_type": "code",
   "execution_count": 36,
   "metadata": {},
   "outputs": [
    {
     "name": "stdout",
     "output_type": "stream",
     "text": [
      "Cluster: 0 (36 docs)\n",
      "magnetic, spin, superconductors, superconducting, superfluid, superconductivity, matter, films, nano, condensed\n",
      "\n",
      "Cluster: 1 (25 docs)\n",
      "algebraic, combinatorics, problem, varieties, curves, representation, symmetric, galois, conformal, conjectures\n",
      "\n",
      "Cluster: 2 (25 docs)\n",
      "ship, oceanographic, operations, oce, 5411, goad, instrumentation, equipment, shipboard, vessel\n",
      "\n",
      "Cluster: 3 (32 docs)\n",
      "fellowship, dms, 9219, 108000, lloyd, 1260, postdoctoral, stanford, princeton, hyde\n",
      "\n",
      "Cluster: 4 (23 docs)\n",
      "fellowship, microbial, dbi, informatics, fungal, postdoctoral, bacterial, fungi, aeruginosa, host\n",
      "\n",
      "Cluster: 5 (31 docs)\n",
      "sdp, linear, regression, programming, parallel, algorithms, integer, optimization, semidefinite, preconditioning\n",
      "\n",
      "Cluster: 6 (20 docs)\n",
      "algebras, representation, lie, quantum, subfactors, symmetries, neumann, representations, von, algebra\n",
      "\n",
      "Cluster: 7 (24 docs)\n",
      "industry, colleges, technical, ate, center, pulp, curriculum, regional, technicians, paper\n",
      "\n",
      "Cluster: 8 (133 docs)\n",
      "random, statistical, cts, sediment, stochastic, lake, financial, resistivity, rna, aerosol\n",
      "\n",
      "Cluster: 9 (43 docs)\n",
      "equations, nonlinear, fluid, differential, waves, solutions, approximation, monge, turbulence, singularities\n",
      "\n"
     ]
    }
   ],
   "source": [
    "tfidf_vectorizer = TfidfVectorizer(min_df=2, use_idf=True,max_df=0.1, max_features=100000)\n",
    "tfidf_matrix = tfidf_vectorizer.fit_transform(documents)\n",
    "matrix_sample = tfidf_matrix[:1000]\n",
    "km = KMeans(n_clusters=30, random_state=123)\n",
    "km.fit(matrix_sample)\n",
    "print_clusters(matrix_sample, km.labels_)\n",
    "# too many numbers in the clusters"
   ]
  },
  {
   "cell_type": "code",
   "execution_count": 37,
   "metadata": {},
   "outputs": [
    {
     "name": "stdout",
     "output_type": "stream",
     "text": [
      "Cluster: 1 (5 docs)\n",
      "sediment, floodplain, fly, strickland, clinoform, mg, river, seawater, trapping, carbonate\n",
      "\n",
      "Cluster: 2 (3 docs)\n",
      "plate, rica, costa, cocos, flow, catherine, heat, constable, subducted, flux\n",
      "\n",
      "Cluster: 3 (10 docs)\n",
      "subduction, mantle, gulf, clay, continental, mineralogy, factory, tectonically, arc, frictional\n",
      "\n",
      "Cluster: 4 (3 docs)\n",
      "cad, platform, platforms, 3d, parameterization, chips, desktop, drafting, power, parametric\n",
      "\n",
      "Cluster: 5 (6 docs)\n",
      "composite, capacitor, geotechnical, retrofit, diagnostic, soil, fc, fiber, dove, integral\n",
      "\n",
      "Cluster: 6 (5 docs)\n",
      "gravitational, neutron, envelope, ligo, taam, wave, acns, star, stars, sound\n",
      "\n",
      "Cluster: 7 (2 docs)\n",
      "disk, flexible, analyte, interferometry, analytes, adaptive, laser, optimal, biosensors, pao\n",
      "\n",
      "Cluster: 8 (2 docs)\n",
      "rsvp, irvine, meco, error, observation, diffusion, muon, parameter, principle, zheng\n",
      "\n",
      "Cluster: 9 (27 docs)\n",
      "magnetosphere, magnetic, solar, coronal, lake, climate, aerosol, atm, cmes, inner\n",
      "\n"
     ]
    },
    {
     "data": {
      "image/png": "[encoded data removed]",
      "text/plain": [
       "<Figure size 432x288 with 1 Axes>"
      ]
     },
     "metadata": {
      "needs_background": "light"
     },
     "output_type": "display_data"
    }
   ],
   "source": [
    "tfidf_vectorizer = TfidfVectorizer(min_df=2, use_idf=True,max_df=0.1, max_features=100000)\n",
    "tfidf_matrix = tfidf_vectorizer.fit_transform(documents)\n",
    "matrix_sample = tfidf_matrix[:1000]\n",
    "z = linkage(matrix_sample.todense(), metric=\"cosine\", method=\"complete\")\n",
    "clusters = fcluster(z, 0.99, criterion=\"distance\")\n",
    "print_clusters(matrix_sample, clusters)\n",
    "# seems a lot better"
   ]
  }
 ],
 "metadata": {
  "kernelspec": {
   "display_name": "Python 3",
   "language": "python",
   "name": "python3"
  },
  "language_info": {
   "codemirror_mode": {
    "name": "ipython",
    "version": 3
   },
   "file_extension": ".py",
   "mimetype": "text/x-python",
   "name": "python",
   "nbconvert_exporter": "python",
   "pygments_lexer": "ipython3",
   "version": "3.7.3"
  }
 },
 "nbformat": 4,
 "nbformat_minor": 2
}
