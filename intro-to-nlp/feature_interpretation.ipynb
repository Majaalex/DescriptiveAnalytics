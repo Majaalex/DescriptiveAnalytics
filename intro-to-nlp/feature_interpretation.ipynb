{
 "cells": [
  {
   "cell_type": "markdown",
   "metadata": {},
   "source": [
    "# Elementary feature interpretation\n",
    "\n",
    "* Linear classifier learns a weight for every feature\n",
    "* This weight (to a degree) correlates with the importance of this feature\n",
    "* Study the attributes of a trained `LinearSVC` here https://scikit-learn.org/stable/modules/generated/sklearn.svm.LinearSVC.html\n",
    "* `coef_` seems to be the right choice    "
   ]
  },
  {
   "cell_type": "code",
   "execution_count": 2,
   "metadata": {},
   "outputs": [
    {
     "name": "stdout",
     "output_type": "stream",
     "text": [
      "classifier weights: [[-0.02106218 -0.00578327 -0.00438413 ...  0.         -0.01203838\n",
      "  -0.00369283]]\n",
      "their shape (1, 68545)\n"
     ]
    }
   ],
   "source": [
    "#Load the previously saved model\n",
    "import pickle\n",
    "import sklearn\n",
    "with open(\"saved_model.pickle\",\"rb\") as f:\n",
    "    classifier,vectorizer=pickle.load(f)\n",
    "    \n",
    "print(\"classifier weights:\",classifier.coef_)\n",
    "print(\"their shape\",classifier.coef_.shape)"
   ]
  },
  {
   "cell_type": "markdown",
   "metadata": {},
   "source": [
    "* We will need to know which weight corresponds to which feature\n",
    "* The vectorizer has this information\n",
    "* Study the attributes here: https://scikit-learn.org/stable/modules/generated/sklearn.feature_extraction.text.CountVectorizer.html\n",
    "* `vocabulary` seems to be the right choice"
   ]
  },
  {
   "cell_type": "code",
   "execution_count": 3,
   "metadata": {},
   "outputs": [
    {
     "name": "stdout",
     "output_type": "stream",
     "text": [
      "[('knew', 33762), ('was', 66161), ('going', 25579), ('to', 61534), ('see', 53663), ('low', 36257), ('budget', 8611), ('movie', 40395), ('but', 8971), ('expected', 21158), ('much', 40481), ('more', 40112), ('from', 23961), ('an', 2867), ('alex', 2326), ('cox', 13899), ('film', 22447), ('the', 60797), ('acting', 1451), ('by', 9044), ('two', 63039), ('leading', 34870), ('men', 38571), ('terrible', 60623), ('especially', 20559), ('white', 66751), ('guy', 26744), ('girl', 25214), ('should', 54819), ('have', 27562)] ...\n"
     ]
    }
   ],
   "source": [
    "# print(vectorizer.vocabulary_) # beware! large print\n",
    "print(list(vectorizer.vocabulary_.items())[:30],\"...\")"
   ]
  },
  {
   "cell_type": "markdown",
   "metadata": {},
   "source": [
    "* The vocabulary is a dictionary: feature -> index\n",
    "* We will need it the other way, i.e. we will need to ask using an index, and get the feature"
   ]
  },
  {
   "cell_type": "code",
   "execution_count": 4,
   "metadata": {},
   "outputs": [],
   "source": [
    "#Reverse the dictionary\n",
    "index2feature={}\n",
    "for feature,idx in vectorizer.vocabulary_.items():\n",
    "    assert idx not in index2feature #This really should hold\n",
    "    index2feature[idx]=feature\n",
    "#Now we can query index2feature to get the feature names as we need"
   ]
  },
  {
   "cell_type": "markdown",
   "metadata": {},
   "source": [
    "* We need now to sort the classifier weights\n",
    "* ...and keep the information about which features (indices) they correspond to\n",
    "* So a simple `sort()` does not cut it, we would not keep the indices"
   ]
  },
  {
   "cell_type": "code",
   "execution_count": 5,
   "metadata": {},
   "outputs": [
    {
     "name": "stdout",
     "output_type": "stream",
     "text": [
      "worst\n",
      "waste\n",
      "awful\n",
      "poorly\n",
      "boring\n",
      "disappointment\n",
      "disappointing\n",
      "dull\n",
      "bad\n",
      "poor\n",
      "terrible\n",
      "lacks\n",
      "ridiculous\n",
      "badly\n",
      "worse\n",
      "laughable\n",
      "horrible\n",
      "unfortunately\n",
      "wooden\n",
      "avoid\n",
      "save\n",
      "mess\n",
      "annoying\n",
      "fails\n",
      "mediocre\n",
      "lame\n",
      "unfunny\n",
      "redeeming\n",
      "unless\n",
      "weak\n",
      "----------------------------------------------------\n",
      "excellent\n",
      "perfect\n",
      "great\n",
      "wonderfully\n",
      "superb\n",
      "amazing\n",
      "loved\n",
      "enjoyable\n",
      "refreshing\n",
      "surprisingly\n",
      "funniest\n",
      "wonderful\n",
      "noir\n",
      "favorite\n",
      "today\n",
      "incredible\n",
      "perfectly\n",
      "subtle\n",
      "expecting\n",
      "rare\n",
      "enjoyed\n",
      "liked\n",
      "fantastic\n",
      "fun\n",
      "highly\n",
      "apartment\n",
      "gem\n",
      "underrated\n",
      "brilliant\n",
      "masterpiece\n"
     ]
    }
   ],
   "source": [
    "# Solution 1:\n",
    "\n",
    "# make a list of (weight, index), sort it\n",
    "lst=[]\n",
    "for idx,weight in enumerate(classifier.coef_[0]):\n",
    "    lst.append((weight,idx))\n",
    "lst.sort() #sort\n",
    "\n",
    "#Print first few and last few\n",
    "for weight,idx in lst[:30]: #first 30 (ie lowest weight)\n",
    "    print(index2feature[idx])\n",
    "print(\"----------------------------------------------------\")\n",
    "#Take the last 30 (lst[-30:]) but these now come from weakest to strongest\n",
    "#so reverse the list using [::-1]\n",
    "for weight,idx in lst[-30:][::-1]:\n",
    "    print(index2feature[idx])\n"
   ]
  },
  {
   "cell_type": "code",
   "execution_count": 6,
   "metadata": {},
   "outputs": [
    {
     "name": "stdout",
     "output_type": "stream",
     "text": [
      "[67525 66190  4785 ... 26108 45051 20954]\n",
      "worst\n",
      "waste\n",
      "awful\n",
      "poorly\n",
      "boring\n",
      "disappointment\n",
      "disappointing\n",
      "dull\n",
      "bad\n",
      "poor\n",
      "terrible\n",
      "lacks\n",
      "ridiculous\n",
      "badly\n",
      "worse\n",
      "laughable\n",
      "horrible\n",
      "unfortunately\n",
      "wooden\n",
      "avoid\n",
      "save\n",
      "mess\n",
      "annoying\n",
      "fails\n",
      "mediocre\n",
      "lame\n",
      "unfunny\n",
      "redeeming\n",
      "unless\n",
      "weak\n",
      "-------------------------------\n",
      "excellent\n",
      "perfect\n",
      "great\n",
      "wonderfully\n",
      "superb\n",
      "amazing\n",
      "loved\n",
      "enjoyable\n",
      "refreshing\n",
      "surprisingly\n",
      "funniest\n",
      "wonderful\n",
      "noir\n",
      "favorite\n",
      "today\n",
      "incredible\n",
      "perfectly\n",
      "subtle\n",
      "expecting\n",
      "rare\n",
      "enjoyed\n",
      "liked\n",
      "fantastic\n",
      "fun\n",
      "highly\n",
      "apartment\n",
      "gem\n",
      "underrated\n",
      "brilliant\n",
      "masterpiece\n"
     ]
    }
   ],
   "source": [
    "# Solution #2\n",
    "# Numpy can help us\n",
    "# argsort gives a sequence of indices that sort an array\n",
    "import numpy\n",
    "\n",
    "indices=numpy.argsort(classifier.coef_[0])\n",
    "print(indices)\n",
    "for idx in indices[:30]:\n",
    "    print(index2feature[idx])\n",
    "print(\"-------------------------------\")\n",
    "for idx in indices[::-1][:30]: #you can also do it the other way round, reverse, then pick\n",
    "    print(index2feature[idx])"
   ]
  },
  {
   "cell_type": "markdown",
   "metadata": {},
   "source": [
    "* This seems to work like charm!\n",
    "* We can sample the features across the range to get some further idea\n",
    "* let's take every 100th feature"
   ]
  },
  {
   "cell_type": "code",
   "execution_count": 7,
   "metadata": {
    "scrolled": true
   },
   "outputs": [
    {
     "name": "stdout",
     "output_type": "stream",
     "text": [
      "worst, offensive, thin, education, villain, ethel, bother, pistol, jennifer, male, sole, outs, fuss, destroyed, structure, torch, frankie, rituals, overacting, criminally, approaching, unhappily, poltergeist, heat, expressed, slut, quits, farting, cautionary, rubbing, starving, telegraphed, candice, ax, bombarding, flipper, pyrotechnics, shakespearean, environmentalist, repulsive, madagascar, sleaze, reducing, finnish, rusty, grid, honourable, sponsors, ragged, atrocities, dreamworks, revived, animaster, chávez, forwards, florid, modelled, blanks, winking, flaccid, roads, hopelessness, stockholm, pockets, freakishly, syberberg, wal, spirals, succession, warmly, vivien, aslan, catman, pbs, lampoon, independents, jaid, ivor, _x, ciao, polyester, 40am, oedekerk, yorker, sophistry, wisconsin, discoverer, bomberg, davy, marvelling, originals, hydrogen, separated, tendentious, inculpate, archaeologically, blankly, laurie, adrift, induced, bowling, exploitational, spetember, mushed, butchered, constance, midtorso, jotted, raider, howes, virtues, nutjob, alloimono, tourneur, nieces, righteousness, radiating, perilli, scaramouche, elana, tailored, breakable, goody, afield, regression, slashers, krick, quas, bests, teeny, alyson, lohman, taipei, crikey, sycophantically, mistreatment, _blair, farina, copier, rouges, descended, reawakened, _cruel, dazzle, quantrill, sniveling, clichéed, strayer, insufficiently, raddick, undergo, trahisons, haircuts, hollywierd, crucifixion, smarmiest, seaquest, honky, billing, globetrotting, overtone, bystander, mccloud, astray, slovik, swathe, melon, climaxed, spastic, successive, iglesia, momojiri, torturous, martini, grieved, prosecution, tensity, keyword, glen, film_, meaningfully, vanderbeek, homeliest, bolla, mckay, callipygian, stereotypic, intensify, harwood, 1918, sausage, sheppard, pineal, caravan, hongkong, posited, meshes, spinelessness, horsies, slr, cortez, doorknobs, emo, federico, benning, mistiness, approving, cloaked, darklight, stanton, macedonians, metamorphosed, ani, hugwagon, reassured, nevermind, skinner, pfff, virtually, tina, lovelies, frees, bemoans, serviceable, andlaurel, szalinsky, contradicts, rahs, ibánez, ridding, tassi, youngish, redeaming, noo, endorsements, brickman, schreiber, heckerling, emptied, angriness, creamed, dumberer, photographing, snivelling, nauvoo, perps, megapack, outerspace, giulietta, delicacy, ivanna, cheeseburgers, parrish, frequencies, lykis, elsa, sssssssssssooooooooooooo, legendarily, naffly, embarassment, nietzcheans, openings, yorgos, ooooh, 0f, liyan, nyt, ogres, njosnavelin, nin, obliterated, logophobia, masturbatory, womenfolk, matthu, marcuzzo, mobiles, wildfowl, mearly, merciful, militiaman, whys, beasties, yannis, muscical, yeccch, neckties, naughtily, morlar, moonlights, moppet, munnera, maloni, vacillations, takenaka, sacker, samaurai, sweatshops, anaglyph, taguchi, sciuscià, thickheaded, retina, thoongadae, rotund, technicals, robed, anthropophagus, snagged, stiffer, aforesaid, straithrain, sprog, stebbins, speck, sunburn, shippe, septimus, sexploitative, alsanjak, aloknath, alternations, php, pinheads, peron, pfink, umeki, ponytails, _inspire_, pledges, baboon, ustase, urdhu, pavlovian, peli, palatir, paradorian, rarest, reah, quizzically, reissuing, rendevous, toffs, refried, pricked, probarly, postmodernism, predestined, arseholes, aruna, arthurian, germanish, britcoms, brulier, gamezone, grist, gmd, gonnabe, feng, findus, feasibly, frantisek, frustrationfest, flapjack, foment, ily, horseman, hulchul, inelegant, insouciance, independentcritics, handover, hassles, grownup, h5n1, hollyweed, heeey, herschel, cruthers, daffily, crossface, demonicly, despairs, dardis, cazenove, collusive, cid, cleanest, contacting, cosmopolitans, consiglieri, cambell, entomologist, echos, elektra, bw, erics, evasion, disabling, carolyn, dibello, duchonvey, easthampton, dohhh, cardassian, laemmles, kalashnikov, lale, kohara, biro, krisak, khakkee, leaderless, janette, jazzman, latinamerica, restraints, tae, gleamed, coencidence, infiltrated, objectification, 170, unpaid, comedic, hoopla, yossi, capsules, gooders, metafilm, artistes, pacifier, oakley, ariszted, cmm, nor, gaspard, cobain, hymen, strictest, appalachians, zaftig, londonscapes, zombified, lizardry, finery, sistas, womanising, antionioni, columbos, caveats, pastures, desctruction, minimalist, dm, a10, misleads, pods, texans, unplugs, qute, faceness, syd, cda, bogeyman, tapdancing, thier, struck, asserted, johanne, faubourg, leila, goofiest, memorized, dodes, apprehend, blackballed, kotia, surfaces, irritably, levenstein, tacoma, breakin, beach, slimeball, cassavets, drifter, gitaï, flopping, crackle, vikki, scoping, underfunded, zapatti, sooooooooooo, eduard, guaranteeing, wows, recreates, favortie, disclaimer, enlarged, ferula, gisborne, kabaree, denigrates, mediaeval, mclouds, qe, hombre, ashley, divied, haight, vilest, butterworth, sinais, pyaar, gueule, cooperative, vip, ribaldry, gnashing, haseena, shakedown, inference, consequently, bonsall, swashbuckler, hairbrained, sickeningly, acquittal, retrospective, lectures, volpe, unsurpassed, fellowship, sabella, shaughnessy, chirila, britten, mayall, kamp, strickland, fallowing, faceful, tish, hahk, tonnes, tits, ziabar, arbuthnot, duke, analytic, downtown, categorised, nvm, testings, zhou, chariot, doubtfire, chirst, extinguished, baytes, cobwebs, launius, pimples, alden, herold, projectile, halliday, rhythmic, thunk, recreating, pscyho, firebug, visualize, naaaa, resembling, metamorphosis, naysayers, tagge, lampidorra, released, nutcase, exaggeratedly, augmenting, crocker, noirish, natyam, rambo, exchanges, bozo, citta, ash, blvd, strands, mindbender, foxhole, kilmore, alpine, dreamworld, mimieux, collegiates, aryan, mannequins, ant, miraculous, sumthin, unabashedly, elation, prank, voyages, expedient, hankies, skims, pd, sturm, connory, twasn, elements, mt, hess, serenity, showing, omits, warhols, pavarotti, herge, hamster, estonian, randell, tangents, counterpoints, treachery, compliments, arthur, mcintire, farrah, tripods, qualm, hitler, aloha, wards, teacher, versailles, cinematographers, valerie, hugo, sg, signify, landmark, christy, lengthen, squirm, mechanical, guignol, bloke, my, appreciative, voice, math, contest, populace, around, oswald, walters, become, throat, dramas, heavenly, suspend, distinction, discovering, finished, closet, secrets, memories, america, transition, dancer, tense, contribution, also, insists, greene, awesome, "
     ]
    }
   ],
   "source": [
    "indices=numpy.argsort(classifier.coef_[0])\n",
    "\n",
    "for idx in indices[::100]:\n",
    "    print(index2feature[idx],end=\", \")"
   ]
  },
  {
   "cell_type": "markdown",
   "metadata": {},
   "source": [
    "* What have we learned?\n",
    "* Most of the features seem to form a mass without a strong correlation with the sentiment\n",
    "* Only the very extremes of the list seem to be strongly sentiment-biased\n",
    "* This can be tested by looking at the distribution of the weights:"
   ]
  },
  {
   "cell_type": "code",
   "execution_count": 8,
   "metadata": {},
   "outputs": [
    {
     "data": {
      "image/png": "[encoded data removed]",
      "text/plain": [
       "<Figure size 432x288 with 1 Axes>"
      ]
     },
     "metadata": {
      "needs_background": "light"
     },
     "output_type": "display_data"
    },
    {
     "data": {
      "image/png": "[encoded data removed]",
      "text/plain": [
       "<Figure size 432x288 with 1 Axes>"
      ]
     },
     "metadata": {
      "needs_background": "light"
     },
     "output_type": "display_data"
    }
   ],
   "source": [
    "import matplotlib.pyplot as plt\n",
    "import numpy as np\n",
    "#widget is interactive but not shown on github\n",
    "#inline is static fig but shown on github\n",
    "#%matplotlib widget\n",
    "%matplotlib inline\n",
    "\n",
    "plt.figure()\n",
    "y = np.sort(classifier.coef_[0])\n",
    "plt.plot(y)\n",
    "plt.show()\n",
    "\n",
    "#let's look at the beginning, see how fast the weights drop\n",
    "plt.figure()\n",
    "y=np.sort(classifier.coef_[0])\n",
    "plt.plot(y[:1000])\n",
    "plt.show()\n"
   ]
  },
  {
   "cell_type": "code",
   "execution_count": null,
   "metadata": {},
   "outputs": [],
   "source": []
  }
 ],
 "metadata": {
  "kernelspec": {
   "display_name": "Python 3",
   "language": "python",
   "name": "python3"
  },
  "language_info": {
   "codemirror_mode": {
    "name": "ipython",
    "version": 3
   },
   "file_extension": ".py",
   "mimetype": "text/x-python",
   "name": "python",
   "nbconvert_exporter": "python",
   "pygments_lexer": "ipython3",
   "version": "3.7.4"
  }
 },
 "nbformat": 4,
 "nbformat_minor": 4
}
